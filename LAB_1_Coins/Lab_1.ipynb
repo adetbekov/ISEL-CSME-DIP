{
 "cells": [
  {
   "cell_type": "markdown",
   "metadata": {},
   "source": [
    "# 1st Assignment (A45432 - Adetbekov Yeldos)"
   ]
  },
  {
   "cell_type": "markdown",
   "metadata": {},
   "source": [
    "## Initialization process\n",
    "1) Importing all packages \n",
    "\n",
    "2) including image file from assets\n",
    "\n",
    "2) Split colors to b, g, r channels separately"
   ]
  },
  {
   "cell_type": "code",
   "execution_count": 1,
   "metadata": {},
   "outputs": [],
   "source": [
    "import cv2, os\n",
    "import numpy as np\n",
    "from matplotlib import pyplot as plt\n",
    "\n",
    "path = 'assets/'\n",
    "files = []\n",
    "for f in os.listdir(path):\n",
    "    files.append(cv2.imread(path + f))\n",
    "imgs = np.array(files)\n",
    "img = imgs[8]\n",
    "\n",
    "b,g,r = cv2.split(img)"
   ]
  },
  {
   "cell_type": "markdown",
   "metadata": {},
   "source": [
    "## Thresholding by optimal value\n",
    "Here cv2.THRESH_BINARY make such like binary divider and cv2.THRESH_OTSU is adaptive algorithm which takes optimal thresholding value. It could separate foreground and background. Because we have static background, which color is pretty solid blue. We take thresholding by the \"RED\" channel.\n",
    "\n",
    "In Otsu's method we exhaustively search for the threshold that minimizes the intra-class variance (the variance within the class), defined as a weighted sum of variances of the two classes:\n",
    "\n",
    "\n",
    "$${\\displaystyle \\sigma _{w}^{2}(t)=\\omega _{0}(t)\\sigma _{0}^{2}(t)+\\omega _{1}(t)\\sigma _{1}^{2}(t)}$$\n",
    "\n",
    "Weights ${\\displaystyle \\omega _{0}} $ and ${\\displaystyle \\omega _{1}} $ are the probabilities of the two classes separated by a threshold ${\\displaystyle t}$ ,and ${\\displaystyle \\sigma}$ and ${\\displaystyle \\sigma _{1}^{2}}$ are variances of these two classes.\n",
    "$${\\displaystyle {\\begin{aligned}\\omega _{0}(t)&=\\sum _{i=0}^{t-1}p(i)\\\\[4pt]\\omega _{1}(t)&=\\sum _{i=t}^{L-1}p(i)\\end{aligned}}}$$"
   ]
  },
  {
   "cell_type": "markdown",
   "metadata": {},
   "source": [
    "Otsu shows that minimizing the intra-class variance is the same as maximizing inter-class variance:\n",
    "\n",
    "${\\displaystyle {\\begin{aligned}\\sigma _{b}^{2}(t)&=\\sigma ^{2}-\\sigma _{w}^{2}(t)=\\omega _{0}(\\mu _{0}-\\mu _{T})^{2}+\\omega _{1}(\\mu _{1}-\\mu _{T})^{2}\\\\&=\\omega _{0}(t)\\omega _{1}(t)\\left[\\mu _{0}(t)-\\mu _{1}(t)\\right]^{2}\\end{aligned}}}$\n",
    "\n",
    "which is expressed in terms of class probabilities ${\\displaystyle \\omega }$  and class means ${\\displaystyle \\mu }$.\n",
    "\n",
    "while the class mean ${\\displaystyle \\mu _{0,1,T}(t)}$ is:\n",
    "\n",
    "${\\displaystyle {\\begin{aligned}\\mu _{0}(t)&=\\sum _{i=0}^{t-1}i{\\frac {p(i)}{\\omega _{0}}}\\\\[4pt]\\mu _{1}(t)&=\\sum _{i=t}^{L-1}i{\\frac {p(i)}{\\omega _{1}}}\\\\\\mu _{T}&=\\sum _{i=0}^{L-1}ip(i)\\end{aligned}}}$\n",
    "\n",
    "The following relations can be easily verified:\n",
    "\n",
    "${\\displaystyle {\\begin{aligned}\\omega _{0}\\mu _{0}+\\omega _{1}\\mu _{1}&=\\mu _{T}\\\\\\omega _{0}+\\omega _{1}&=1\\end{aligned}}}$\n",
    "\n",
    "The class probabilities and class means can be computed iteratively. This idea yields an effective algorithm."
   ]
  },
  {
   "cell_type": "code",
   "execution_count": null,
   "metadata": {},
   "outputs": [
    {
     "data": {
      "image/png": "[encoded data removed]",
      "text/plain": [
       "<matplotlib.figure.Figure at 0x1061ac160>"
      ]
     },
     "metadata": {},
     "output_type": "display_data"
    },
    {
     "data": {
      "image/png": "[encoded data removed]",
      "text/plain": [
       "<matplotlib.figure.Figure at 0x121782208>"
      ]
     },
     "metadata": {},
     "output_type": "display_data"
    },
    {
     "name": "stdout",
     "output_type": "stream",
     "text": [
      "Treshold value: 120.0\n"
     ]
    }
   ],
   "source": [
    "retval, threshold = cv2.threshold(r, 0, 255, cv2.THRESH_BINARY + cv2.THRESH_OTSU)\n",
    "\n",
    "plt.imshow(threshold, cmap=\"gray\")\n",
    "plt.show()\n",
    "\n",
    "plt.subplot(3,1,2), plt.hist(img.ravel(), 256)\n",
    "plt.axvline(x=retval, color='r', linestyle='dashed', linewidth=2)\n",
    "plt.show()\n",
    "\n",
    "print(\"Treshold value:\", retval)"
   ]
  },
  {
   "cell_type": "code",
   "execution_count": null,
   "metadata": {},
   "outputs": [
    {
     "data": {
      "image/png": "[encoded data removed]",
      "text/plain": [
       "<matplotlib.figure.Figure at 0x1223b1ba8>"
      ]
     },
     "metadata": {},
     "output_type": "display_data"
    }
   ],
   "source": [
    "def disk(r):\n",
    "    y,x = np.ogrid[-r: r+1, -r: r+1]\n",
    "    return 1*(x**2+y**2 <= r**2)\n",
    "\n",
    "floodfill = threshold.copy()\n",
    "h, w = threshold.shape[:2]\n",
    "mask = np.zeros((h+2, w+2), np.uint8)\n",
    "cv2.floodFill(floodfill, mask, (0,0), 255)\n",
    "floodfill_inverted = cv2.bitwise_not(floodfill)\n",
    "cleaned_holes = cv2.morphologyEx(floodfill, cv2.MORPH_CLOSE, disk(3))\n",
    "\n",
    "out = cv2.bitwise_not(( threshold | floodfill_inverted ) + cleaned_holes)\n",
    "\n",
    "plt.imshow(out)\n",
    "plt.show()"
   ]
  },
  {
   "cell_type": "markdown",
   "metadata": {},
   "source": [
    "## Smoothing surface\n",
    "Because of the erossion noises and holes can be glued and this is effective way to make holes inside coin be equalized. Here for erossion we should set some parameters such as kernel and iterations:\n",
    "\n",
    "1) Kernel is integer matrix, which will be cycled over the image pixel by pixel and make mathematical transformation. It is kind of masking pointer which will do operation over the image.\n",
    "\n",
    "Let E be a Euclidean space or an integer grid, and A a binary image in E. The erosion of the binary image A by the structuring element B is defined by:\n",
    "\n",
    "\n",
    "$${\\displaystyle A\\ominus B=\\{z\\in E|B_{z}\\subseteq A\\}}$$\n",
    "\n",
    ",where Bz is the translation of B by the vector z, i.e., \n",
    "\n",
    "$${\\displaystyle } B_{z}=\\{b+z|b\\in B\\}, {\\displaystyle \\forall z\\in E} \\forall z\\in E.$$\n",
    "\n",
    "\n",
    "When the structuring element B has a center (e.g., a disk or a square), and this center is located on the origin of E, then the erosion of A by B can be understood as the locus of points reached by the center of B when B moves inside A. For example, the erosion of a square of side 10, centered at the origin, by a disc of radius 2, also centered at the origin, is a square of side 6 centered at the origin.\n",
    "\n",
    "The erosion of A by B is also given by the expression: $${\\displaystyle A\\ominus B=\\bigcap _{b\\in B}A_{-b}}$$\n",
    "\n",
    "2) Iterations is number of making this procedure."
   ]
  },
  {
   "cell_type": "code",
   "execution_count": null,
   "metadata": {},
   "outputs": [],
   "source": [
    "def disk(r):\n",
    "    y,x = np.ogrid[-r: r+1, -r: r+1]\n",
    "    return 1*(x**2+y**2 <= r**2)"
   ]
  },
  {
   "cell_type": "code",
   "execution_count": null,
   "metadata": {
    "scrolled": true
   },
   "outputs": [],
   "source": [
    "erosion = cv2.erode(out, disk(8), iterations = 2)\n",
    "dilation = cv2.dilate(erosion, disk(4), iterations = 2)\n",
    "\n",
    "# closing = cv2.morphologyEx(threshold, cv2.MORPH_CLOSE, disk(1))\n",
    "# erosion = cv2.erode(closing, disk(10), iterations = 2)\n",
    "# dilation = cv2.dilate(erosion, disk(4), iterations = 4)\n",
    "\n",
    "plt.imshow(dilation, cmap=\"gray\")\n",
    "plt.show()"
   ]
  },
  {
   "cell_type": "code",
   "execution_count": null,
   "metadata": {},
   "outputs": [],
   "source": [
    "im2, contours, hierarchy = cv2.findContours(dilation, cv2.RETR_TREE, cv2.CHAIN_APPROX_NONE)\n",
    "\n",
    "print(hierarchy)"
   ]
  },
  {
   "cell_type": "code",
   "execution_count": null,
   "metadata": {},
   "outputs": [],
   "source": [
    "validCoins = []\n",
    "cleaned_contours = []\n",
    "\n",
    "for (i, c) in enumerate(contours):\n",
    "    if(hierarchy[0][i][2] == -1 and hierarchy[0][i][3] == -1):\n",
    "        cleaned_contours.append(c)       \n",
    "\n",
    "for (i, c) in enumerate(cleaned_contours):\n",
    "    m = cv2.moments(c)\n",
    "    (x,y),radius = cv2.minEnclosingCircle(c)\n",
    "    center = (int(x),int(y))\n",
    "    radius = int(radius)\n",
    "    perimeter = cv2.arcLength(c, True)\n",
    "    circularity = (np.abs(perimeter)**2) / m['m00']\n",
    "\n",
    "    if(circularity >= 13.5 and circularity <= 18):\n",
    "        validCoins.append(c)\n",
    "        cv2.circle(img, center, radius, (0, 255, 0), 3)\n",
    "        cv2.putText(img, str(i), center, cv2.FONT_HERSHEY_COMPLEX, 0.7, (0,0,0), 2)\n",
    "\n",
    "plt.imshow(img, cmap=\"gray\")\n",
    "plt.show()"
   ]
  },
  {
   "cell_type": "code",
   "execution_count": null,
   "metadata": {},
   "outputs": [],
   "source": [
    "sortedCoins = []\n",
    "\n",
    "for c in validCoins:\n",
    "    s = cv2.contourArea(c)\n",
    "    sortedCoins.append(s)\n",
    "    \n",
    "print(sorted(sortedCoins))"
   ]
  },
  {
   "cell_type": "code",
   "execution_count": null,
   "metadata": {},
   "outputs": [],
   "source": [
    "def get_nominal(n):\n",
    "    n = float(n)\n",
    "    if n >= 1:\n",
    "        if n.is_integer():\n",
    "            return \"{} euro\".format(int(n))\n",
    "        else:\n",
    "            return \"{} euros and {} cents\".format(int(n), \"{:0.2f}\".format(np.round(n-int(n), decimals=2))[2:])\n",
    "    else:\n",
    "        return \"{} cents\".format(\"{:0.2f}\".format(np.round(n-int(n), decimals=2))[2:])"
   ]
  },
  {
   "cell_type": "code",
   "execution_count": null,
   "metadata": {},
   "outputs": [],
   "source": [
    "areas = [7000, 10000, 11000, 13000, 15000, 17000, 18000, 20000]\n",
    "denominations = [0.01, 0.02, 0.10, 0.05, 0.20, 1, 0.50, 2]\n",
    "total = 0\n",
    "\n",
    "for c in validCoins:\n",
    "    m = cv2.moments(c)\n",
    "    s = cv2.contourArea(c)\n",
    "    (x, y), radius = cv2.minEnclosingCircle(c)\n",
    "    top = (int(x) - int(radius), int(y) - int(radius) - 7)\n",
    "    \n",
    "    for i, a in enumerate(areas):\n",
    "        nextElement = areas[i+1] if areas[-1] != a else 22000\n",
    "        thisElement = a\n",
    "        currentDenominations = denominations[i]\n",
    "        \n",
    "        if s >= thisElement and s <= nextElement:\n",
    "            total += currentDenominations\n",
    "            cv2.putText(img, get_nominal(currentDenominations), top, cv2.FONT_HERSHEY_COMPLEX, 0.7, (255, 255, 255), 2)\n",
    "\n",
    "cv2.putText(img, \"Total: \" + get_nominal(total), (50, 60), cv2.FONT_HERSHEY_COMPLEX, 1.2, (255, 255, 255), 2)\n",
    "plt.imshow(img, cmap=\"gray\", interpolation=\"none\")\n",
    "plt.show()\n",
    "cv2.imshow(\"result\", img)\n",
    "cv2.waitKey(0)\n",
    "cv2.destroyAllWindows()"
   ]
  }
 ],
 "metadata": {
  "kernelspec": {
   "display_name": "Python 3",
   "language": "python",
   "name": "python3"
  },
  "language_info": {
   "codemirror_mode": {
    "name": "ipython",
    "version": 3
   },
   "file_extension": ".py",
   "mimetype": "text/x-python",
   "name": "python",
   "nbconvert_exporter": "python",
   "pygments_lexer": "ipython3",
   "version": "3.6.1"
  }
 },
 "nbformat": 4,
 "nbformat_minor": 2
}
